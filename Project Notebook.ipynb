{
 "cells": [
  {
   "cell_type": "code",
   "execution_count": 2,
   "metadata": {},
   "outputs": [],
   "source": [
    "import csv\n",
    "import io\n",
    "import numpy as np\n",
    "import sklearn as sk\n",
    "from matplotlib import pyplot as plt\n",
    "\n",
    "%matplotlib inline"
   ]
  },
  {
   "cell_type": "code",
   "execution_count": 20,
   "metadata": {},
   "outputs": [],
   "source": [
    "col_data = [(\"Genre\", \"|S20\"),\n",
    "            (\"Artist\", \"|S50\"),\n",
    "            (\"Track\", \"|S50\"),\n",
    "            (\"Track ID\", \"|S22\"),\n",
    "            (\"Popularity\", int),\n",
    "            (\"Acousticness\", float),\n",
    "            (\"Danceability\", float),\n",
    "            (\"Duration (MS)\", int),\n",
    "            (\"Energy\", float),\n",
    "            (\"Instrumentalness\", float),\n",
    "            (\"Key\", \"|S2\"),\n",
    "            (\"Liveness\", float),\n",
    "            (\"Loudness\", float),\n",
    "            (\"Mode\", \"|S5\"),\n",
    "            (\"Speechiness\", float),\n",
    "            (\"Tempo\", float),\n",
    "            (\"Time Signature\", \"|S3\"),\n",
    "            (\"Valence\", float)]\n",
    "\n",
    "with io.open(\"SpotifyFeatures.csv\", \"r\", encoding=\"utf-8\") as f:\n",
    "    data = np.genfromtxt(f, delimiter=\",\", skip_header=1, comments=None, dtype=col_data)"
   ]
  },
  {
   "cell_type": "code",
   "execution_count": 21,
   "metadata": {},
   "outputs": [
    {
     "name": "stdout",
     "output_type": "stream",
     "text": [
      "(b'A Capella', b'Chase Goehring', b'A Capella', b'5Y1gZ4zoQBwmzu1KXXlTBM', 52, 0.164, 0.636, 303263, 0.681, 1.18e-06, b'F#', 0.167, -6.339, b'Minor', 0.084, 121.933, b'4-A', 0.308)\n"
     ]
    }
   ],
   "source": [
    "print(data[0])"
   ]
  },
  {
   "cell_type": "code",
   "execution_count": null,
   "metadata": {},
   "outputs": [],
   "source": []
  }
 ],
 "metadata": {
  "kernelspec": {
   "display_name": "Python 3",
   "language": "python",
   "name": "python3"
  },
  "language_info": {
   "codemirror_mode": {
    "name": "ipython",
    "version": 3
   },
   "file_extension": ".py",
   "mimetype": "text/x-python",
   "name": "python",
   "nbconvert_exporter": "python",
   "pygments_lexer": "ipython3",
   "version": "3.7.1"
  }
 },
 "nbformat": 4,
 "nbformat_minor": 2
}
