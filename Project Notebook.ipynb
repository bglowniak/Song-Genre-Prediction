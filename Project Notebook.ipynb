{
 "cells": [
  {
   "cell_type": "code",
   "execution_count": 26,
   "metadata": {},
   "outputs": [],
   "source": [
    "import csv\n",
    "import io\n",
    "import numpy as np\n",
    "import sklearn as sk\n",
    "import pandas as pd\n",
    "from matplotlib import pyplot as plt\n",
    "\n",
    "%matplotlib inline"
   ]
  },
  {
   "cell_type": "code",
   "execution_count": 27,
   "metadata": {},
   "outputs": [],
   "source": [
    "col_data = [(\"Genre\", \"|S20\"),\n",
    "            (\"Artist\", \"|S50\"),\n",
    "            (\"Track\", \"|S50\"),\n",
    "            (\"Track ID\", \"|S22\"),\n",
    "            (\"Popularity\", int),\n",
    "            (\"Acousticness\", float),\n",
    "            (\"Danceability\", float),\n",
    "            (\"Duration (MS)\", int),\n",
    "            (\"Energy\", float),\n",
    "            (\"Instrumentalness\", float),\n",
    "            (\"Key\", \"|S2\"),\n",
    "            (\"Liveness\", float),\n",
    "            (\"Loudness\", float),\n",
    "            (\"Mode\", \"|S5\"),\n",
    "            (\"Speechiness\", float),\n",
    "            (\"Tempo\", float),\n",
    "            (\"Time Signature\", \"|S3\"),\n",
    "            (\"Valence\", float)]\n",
    "\n",
    "with io.open(\"SpotifyFeatures.csv\", \"r\", encoding=\"utf-8\") as f:\n",
    "    data = np.genfromtxt(f, delimiter=\",\", skip_header=1, comments=None, dtype=col_data)"
   ]
  },
  {
   "cell_type": "markdown",
   "metadata": {},
   "source": [
    "x array - 230253 x 10  \n",
    "acousticness 5  \n",
    "danceability 6  \n",
    "duration 7  \n",
    "energy 8  \n",
    "instrumentalness 9  \n",
    "liveness 11  \n",
    "loudness 12  \n",
    "speechiness 14  \n",
    "tempo 15  \n",
    "valence 17  \n",
    "\n",
    "should we also include key, time signature, mode? (will need to map to numbers)  \n",
    "\n",
    "y array - 230253 x 1  \n",
    "genres (the true labels) mapped to numbers"
   ]
  },
  {
   "cell_type": "code",
   "execution_count": 50,
   "metadata": {},
   "outputs": [
    {
     "data": {
      "image/png": "[encoded data removed]",
      "text/plain": [
       "<Figure size 432x288 with 1 Axes>"
      ]
     },
     "metadata": {
      "needs_background": "light"
     },
     "output_type": "display_data"
    }
   ],
   "source": [
    "x = np.empty((230253, 10))\n",
    "y = np.empty((230253, 1))\n",
    "genre_mapping_dict = {}\n",
    "genre_idx = 0\n",
    "\n",
    "for i in range(len(data)):\n",
    "    row = data[i]\n",
    "    genre = row[0].decode(\"utf-8\")\n",
    "    if not genre in genre_mapping_dict:\n",
    "        genre_mapping_dict[genre] = genre_idx\n",
    "        genre_idx += 1\n",
    "    y[i] = genre_mapping_dict[genre]\n",
    "    \n",
    "    values = [row[5], row[6], row[7], \n",
    "              row[8], row[9], row[11], \n",
    "              row[12], row[14], row[15], row[17]]\n",
    "    x[i, :] = values\n",
    "    \n",
    "\n",
    "# i think this is danceablilty?\n",
    "from sklearn.linear_model import LinearRegression\n",
    "linear_regressor = LinearRegression()  # create object for the class\n",
    "linear_regressor.fit(x[:,1:2], y)  # perform linear regression\n",
    "Y_pred = linear_regressor.predict(x[:,1:2])  # make predictions\n",
    "plt.scatter(x[:,1:2], y)\n",
    "plt.plot(x[:,1:2], Y_pred, color='red')\n",
    "plt.show()"
   ]
  },
  {
   "cell_type": "code",
   "execution_count": 47,
   "metadata": {},
   "outputs": [],
   "source": [
    "# from sklearn.linear_model import LinearRegression\n",
    "# import pandas as pd  # To read data\n",
    "\n",
    "# data = pd.read_csv('SpotifyFeatures.csv')  # load data set\n",
    "\n",
    "# X = data.iloc[:, 0].values.reshape(-1, 1)  # values converts it into a numpy array\n",
    "# Y = data.iloc[:, 1].values.reshape(-1, 1)  # -1 means that calculate the dimension of rows, but have 1 column\n",
    "# linear_regressor = LinearRegression()  # create object for the class\n",
    "# linear_regressor.fit(X, Y)  # perform linear regression\n",
    "# Y_pred = linear_regressor.predict(X)  # make predictions\n",
    "# plt.scatter(X, Y)\n",
    "# plt.plot(X, Y_pred, color='red')\n",
    "# plt.show()"
   ]
  },
  {
   "cell_type": "code",
   "execution_count": null,
   "metadata": {},
   "outputs": [],
   "source": []
  }
 ],
 "metadata": {
  "kernelspec": {
   "display_name": "Python 3",
   "language": "python",
   "name": "python3"
  },
  "language_info": {
   "codemirror_mode": {
    "name": "ipython",
    "version": 3
   },
   "file_extension": ".py",
   "mimetype": "text/x-python",
   "name": "python",
   "nbconvert_exporter": "python",
   "pygments_lexer": "ipython3",
   "version": "3.7.3"
  }
 },
 "nbformat": 4,
 "nbformat_minor": 2
}
